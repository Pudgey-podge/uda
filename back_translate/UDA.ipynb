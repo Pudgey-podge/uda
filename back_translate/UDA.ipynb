{
  "nbformat": 4,
  "nbformat_minor": 0,
  "metadata": {
    "colab": {
      "name": "UDA.ipynb",
      "provenance": []
    },
    "kernelspec": {
      "name": "python3",
      "display_name": "Python 3"
    },
    "accelerator": "TPU"
  },
  "cells": [
    {
      "cell_type": "code",
      "metadata": {
        "id": "RDzlM0Eoymwd",
        "colab_type": "code",
        "colab": {}
      },
      "source": [
        "from google.colab import drive\n",
        "drive.mount('/content/drive')"
      ],
      "execution_count": null,
      "outputs": []
    },
    {
      "cell_type": "code",
      "metadata": {
        "id": "sQDuVddLyr8A",
        "colab_type": "code",
        "colab": {}
      },
      "source": [
        "%%bash\n",
        "cd drive/My\\ Drive/\n",
        "git clone https://github.com/ccosnett/uda.git"
      ],
      "execution_count": null,
      "outputs": []
    },
    {
      "cell_type": "code",
      "metadata": {
        "id": "9ZbETrlLB8HQ",
        "colab_type": "code",
        "colab": {}
      },
      "source": [
        "!cd drive/My\\ Drive/uda/\n",
        "################################################################################\n",
        "# INSTALL CONDA ON GOOGLE COLAB\n",
        "################################################################################\n",
        "! wget https://repo.anaconda.com/miniconda/Miniconda3-py37_4.8.2-Linux-x86_64.sh\n",
        "! chmod +x Miniconda3-py37_4.8.2-Linux-x86_64.sh\n",
        "! bash ./Miniconda3-py37_4.8.2-Linux-x86_64.sh -b -f -p /usr/local\n",
        "import sys\n",
        "sys.path.append('/usr/local/lib/python3.7/site-packages/')\n",
        "!conda install -n root _license -y -q\n",
        "!conda create --name py27 python=2.7 -y"
      ],
      "execution_count": null,
      "outputs": []
    },
    {
      "cell_type": "code",
      "metadata": {
        "colab_type": "code",
        "id": "xck25iCUNtGO",
        "colab": {}
      },
      "source": [
        "%%bash\n",
        "cd drive/My\\ Drive/uda/back_translate\n",
        "source activate py27\n",
        "pip install tensorflow-gpu==1.13.2\n",
        "pip install mesh-tensorflow==0.0.5\n",
        "conda install absl-py -y\n",
        "pip install tensor2tensor==1.13.4\n",
        "pip install tensorflow-probability==0.6.0\n",
        "conda install nltk==3.4.5 -y\n",
        "python -c \"import nltk; nltk.download('punkt')\"\n",
        "bash download.sh\n",
        "#bash run_old.sh"
      ],
      "execution_count": null,
      "outputs": []
    },
    {
      "cell_type": "code",
      "metadata": {
        "id": "qbh2ox9YEV0z",
        "colab_type": "code",
        "colab": {}
      },
      "source": [
        "%%bash \n",
        "#source activate py27 && cd drive/My\\ Drive/uda/back_translate && bash run_30k_.sh\n",
        "source activate py27 && cd drive/My\\ Drive/uda/back_translate && bash run_1_.sh"
      ],
      "execution_count": null,
      "outputs": []
    }
  ]
}